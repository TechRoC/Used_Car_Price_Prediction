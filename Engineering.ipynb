{
  "nbformat": 4,
  "nbformat_minor": 0,
  "metadata": {
    "accelerator": "GPU",
    "colab": {
      "name": "Engineering.ipynb",
      "provenance": [],
      "mount_file_id": "10s-l3zx9a0cB2slmccP73794kBrvBKk8",
      "authorship_tag": "ABX9TyOROS7RvyOr/hCLjgh1xv2j",
      "include_colab_link": true
    },
    "kernelspec": {
      "display_name": "Python 3",
      "name": "python3"
    }
  },
  "cells": [
    {
      "cell_type": "markdown",
      "metadata": {
        "id": "view-in-github",
        "colab_type": "text"
      },
      "source": [
        "<a href=\"https://colab.research.google.com/github/TechRoC/Used_Car_Price_Prediction/blob/main/Engineering.ipynb\" target=\"_parent\"><img src=\"https://colab.research.google.com/assets/colab-badge.svg\" alt=\"Open In Colab\"/></a>"
      ]
    },
    {
      "cell_type": "code",
      "metadata": {
        "id": "a9WgexLrySNR",
        "colab": {
          "base_uri": "https://localhost:8080/"
        },
        "outputId": "bf5b6f7f-f4a3-4041-e8b6-2c177d0197f4"
      },
      "source": [
        "filename = 'cars_price.csv' # Filename\n",
        "path = '/content/drive/My Drive/' #Drive path\n",
        " \n",
        "#importing libraries\n",
        "import pandas as pd\n",
        "import numpy as np\n",
        "import seaborn as sns\n",
        "import os\n",
        "import matplotlib.pyplot as plt\n",
        "%matplotlib inline\n",
        " \n",
        "from tqdm import tqdm\n",
        "from sklearn.experimental import enable_iterative_imputer\n",
        "from sklearn.impute import IterativeImputer\n",
        "from sklearn.ensemble import ExtraTreesRegressor\n",
        "from sklearn.linear_model import BayesianRidge\n",
        "from sklearn.tree import DecisionTreeRegressor\n",
        "from sklearn.neighbors import KNeighborsRegressor\n",
        "from sklearn.preprocessing import OrdinalEncoder\n",
        "from sklearn import preprocessing\n",
        " \n",
        "from sklearn.model_selection import cross_val_score\n",
        "from sklearn.impute import SimpleImputer\n",
        "from sklearn.pipeline import make_pipeline\n",
        "from sklearn.externals import joblib\n",
        "import warnings\n",
        " \n",
        "warnings.filterwarnings('ignore')"
      ],
      "execution_count": null,
      "outputs": [
        {
          "output_type": "stream",
          "text": [
            "/usr/local/lib/python3.6/dist-packages/sklearn/externals/joblib/__init__.py:15: FutureWarning: sklearn.externals.joblib is deprecated in 0.21 and will be removed in 0.23. Please import this functionality directly from joblib, which can be installed with: pip install joblib. If this warning is raised when loading pickled models, you may need to re-serialize those models with scikit-learn 0.21+.\n",
            "  warnings.warn(msg, category=FutureWarning)\n"
          ],
          "name": "stderr"
        }
      ]
    },
    {
      "cell_type": "code",
      "metadata": {
        "id": "fnYNkZYMDtDu",
        "colab": {
          "base_uri": "https://localhost:8080/",
          "height": 312
        },
        "outputId": "0b65f25c-c285-4339-9bf6-e7f601be4950"
      },
      "source": [
        "\"\"\"Load DataFrame\"\"\"\n",
        " \n",
        "df=pd.read_csv(os.path.join(path,filename))\n",
        "df = df.drop('Unnamed: 0',axis=1)\n",
        "df.head()"
      ],
      "execution_count": null,
      "outputs": [
        {
          "output_type": "execute_result",
          "data": {
            "text/html": [
              "<div>\n",
              "<style scoped>\n",
              "    .dataframe tbody tr th:only-of-type {\n",
              "        vertical-align: middle;\n",
              "    }\n",
              "\n",
              "    .dataframe tbody tr th {\n",
              "        vertical-align: top;\n",
              "    }\n",
              "\n",
              "    .dataframe thead th {\n",
              "        text-align: right;\n",
              "    }\n",
              "</style>\n",
              "<table border=\"1\" class=\"dataframe\">\n",
              "  <thead>\n",
              "    <tr style=\"text-align: right;\">\n",
              "      <th></th>\n",
              "      <th>make</th>\n",
              "      <th>model</th>\n",
              "      <th>priceUSD</th>\n",
              "      <th>year</th>\n",
              "      <th>condition</th>\n",
              "      <th>mileage(kilometers)</th>\n",
              "      <th>fuel_type</th>\n",
              "      <th>volume(cm3)</th>\n",
              "      <th>color</th>\n",
              "      <th>transmission</th>\n",
              "      <th>drive_unit</th>\n",
              "      <th>segment</th>\n",
              "    </tr>\n",
              "  </thead>\n",
              "  <tbody>\n",
              "    <tr>\n",
              "      <th>0</th>\n",
              "      <td>honda</td>\n",
              "      <td>accord</td>\n",
              "      <td>565</td>\n",
              "      <td>1993</td>\n",
              "      <td>with mileage</td>\n",
              "      <td>960015.0</td>\n",
              "      <td>petrol</td>\n",
              "      <td>2000.0</td>\n",
              "      <td>black</td>\n",
              "      <td>mechanics</td>\n",
              "      <td>front-wheel drive</td>\n",
              "      <td>D</td>\n",
              "    </tr>\n",
              "    <tr>\n",
              "      <th>1</th>\n",
              "      <td>ford</td>\n",
              "      <td>fusion</td>\n",
              "      <td>5550</td>\n",
              "      <td>2008</td>\n",
              "      <td>with mileage</td>\n",
              "      <td>172000.0</td>\n",
              "      <td>diesel</td>\n",
              "      <td>1400.0</td>\n",
              "      <td>silver</td>\n",
              "      <td>mechanics</td>\n",
              "      <td>front-wheel drive</td>\n",
              "      <td>M</td>\n",
              "    </tr>\n",
              "    <tr>\n",
              "      <th>2</th>\n",
              "      <td>nissan</td>\n",
              "      <td>teana</td>\n",
              "      <td>8300</td>\n",
              "      <td>2008</td>\n",
              "      <td>with mileage</td>\n",
              "      <td>223000.0</td>\n",
              "      <td>petrol</td>\n",
              "      <td>2500.0</td>\n",
              "      <td>purple</td>\n",
              "      <td>auto</td>\n",
              "      <td>front-wheel drive</td>\n",
              "      <td>D</td>\n",
              "    </tr>\n",
              "    <tr>\n",
              "      <th>3</th>\n",
              "      <td>volkswagen</td>\n",
              "      <td>fox</td>\n",
              "      <td>3300</td>\n",
              "      <td>2005</td>\n",
              "      <td>with mileage</td>\n",
              "      <td>140000.0</td>\n",
              "      <td>petrol</td>\n",
              "      <td>1200.0</td>\n",
              "      <td>blue</td>\n",
              "      <td>mechanics</td>\n",
              "      <td>front-wheel drive</td>\n",
              "      <td>A</td>\n",
              "    </tr>\n",
              "    <tr>\n",
              "      <th>4</th>\n",
              "      <td>nissan</td>\n",
              "      <td>primera</td>\n",
              "      <td>2450</td>\n",
              "      <td>2002</td>\n",
              "      <td>with damage</td>\n",
              "      <td>413000.0</td>\n",
              "      <td>diesel</td>\n",
              "      <td>2200.0</td>\n",
              "      <td>burgundy</td>\n",
              "      <td>mechanics</td>\n",
              "      <td>front-wheel drive</td>\n",
              "      <td>D</td>\n",
              "    </tr>\n",
              "  </tbody>\n",
              "</table>\n",
              "</div>"
            ],
            "text/plain": [
              "         make    model  priceUSD  ...  transmission         drive_unit  segment\n",
              "0       honda   accord       565  ...     mechanics  front-wheel drive        D\n",
              "1        ford   fusion      5550  ...     mechanics  front-wheel drive        M\n",
              "2      nissan    teana      8300  ...          auto  front-wheel drive        D\n",
              "3  volkswagen      fox      3300  ...     mechanics  front-wheel drive        A\n",
              "4      nissan  primera      2450  ...     mechanics  front-wheel drive        D\n",
              "\n",
              "[5 rows x 12 columns]"
            ]
          },
          "metadata": {
            "tags": []
          },
          "execution_count": 2
        }
      ]
    },
    {
      "cell_type": "code",
      "metadata": {
        "id": "7v8QttN4ERrI",
        "colab": {
          "base_uri": "https://localhost:8080/"
        },
        "outputId": "7df933a3-0cd6-4f0c-c0ea-0dc561a67432"
      },
      "source": [
        "df.info() #checking data"
      ],
      "execution_count": null,
      "outputs": [
        {
          "output_type": "stream",
          "text": [
            "<class 'pandas.core.frame.DataFrame'>\n",
            "RangeIndex: 40000 entries, 0 to 39999\n",
            "Data columns (total 12 columns):\n",
            " #   Column               Non-Null Count  Dtype  \n",
            "---  ------               --------------  -----  \n",
            " 0   make                 40000 non-null  object \n",
            " 1   model                40000 non-null  object \n",
            " 2   priceUSD             40000 non-null  int64  \n",
            " 3   year                 40000 non-null  int64  \n",
            " 4   condition            40000 non-null  object \n",
            " 5   mileage(kilometers)  40000 non-null  float64\n",
            " 6   fuel_type            40000 non-null  object \n",
            " 7   volume(cm3)          39970 non-null  float64\n",
            " 8   color                40000 non-null  object \n",
            " 9   transmission         40000 non-null  object \n",
            " 10  drive_unit           38655 non-null  object \n",
            " 11  segment              36245 non-null  object \n",
            "dtypes: float64(2), int64(2), object(8)\n",
            "memory usage: 3.7+ MB\n"
          ],
          "name": "stdout"
        }
      ]
    },
    {
      "cell_type": "code",
      "metadata": {
        "id": "Hh7xos0gEkFN",
        "colab": {
          "base_uri": "https://localhost:8080/"
        },
        "outputId": "534a7527-f4fb-4d0b-a1f7-d24fe1fee2d1"
      },
      "source": [
        " \n",
        "# Separate numerical and column name in list.\n",
        "object_col = []\n",
        "num_col = []\n",
        "all_col = list(df.columns)\n",
        "for i in all_col:\n",
        "  if df[i].dtype == 'object':\n",
        "    object_col.append(i)\n",
        "  else:\n",
        "    num_col.append(i)\n",
        "print(\"object columns : \", object_col)\n",
        "print(\"int/float columns : \", num_col)"
      ],
      "execution_count": null,
      "outputs": [
        {
          "output_type": "stream",
          "text": [
            "object columns :  ['make', 'model', 'condition', 'fuel_type', 'color', 'transmission', 'drive_unit', 'segment']\n",
            "int/float columns :  ['priceUSD', 'year', 'mileage(kilometers)', 'volume(cm3)']\n"
          ],
          "name": "stdout"
        }
      ]
    },
    {
      "cell_type": "markdown",
      "metadata": {
        "id": "CZIAStSYJbTG"
      },
      "source": [
        "# **Missing Value Treatment**"
      ]
    },
    {
      "cell_type": "code",
      "metadata": {
        "id": "BrbAkrPkGTjP",
        "colab": {
          "base_uri": "https://localhost:8080/"
        },
        "outputId": "e81cf6d2-fe20-47a8-a3e9-185d6d565dca"
      },
      "source": [
        "data = df.copy()\n",
        " \n",
        "data.isnull().sum() #return series of columns with respective of number of null values"
      ],
      "execution_count": null,
      "outputs": [
        {
          "output_type": "execute_result",
          "data": {
            "text/plain": [
              "make                      0\n",
              "model                     0\n",
              "priceUSD                  0\n",
              "year                      0\n",
              "condition                 0\n",
              "mileage(kilometers)       0\n",
              "fuel_type                 0\n",
              "volume(cm3)              30\n",
              "color                     0\n",
              "transmission              0\n",
              "drive_unit             1345\n",
              "segment                3755\n",
              "dtype: int64"
            ]
          },
          "metadata": {
            "tags": []
          },
          "execution_count": 4
        }
      ]
    },
    {
      "cell_type": "code",
      "metadata": {
        "id": "bBMcyqgyP7sv",
        "colab": {
          "base_uri": "https://localhost:8080/",
          "height": 377
        },
        "outputId": "66b06c4e-608f-444a-e831-ffcbc4a90b7d"
      },
      "source": [
        "#heatmap to identify nulll values using graph\n",
        "sns.heatmap(data.isnull(),yticklabels=False,cbar=True,cmap='Accent')\n"
      ],
      "execution_count": null,
      "outputs": [
        {
          "output_type": "execute_result",
          "data": {
            "text/plain": [
              "<matplotlib.axes._subplots.AxesSubplot at 0x7f3044d58198>"
            ]
          },
          "metadata": {
            "tags": []
          },
          "execution_count": 6
        },
        {
          "output_type": "display_data",
          "data": {
            "image/png": "[encoded data removed]",
            "text/plain": [
              "<Figure size 432x288 with 2 Axes>"
            ]
          },
          "metadata": {
            "tags": [],
            "needs_background": "light"
          }
        }
      ]
    },
    {
      "cell_type": "code",
      "metadata": {
        "id": "Xv1vVBvYRL4q",
        "colab": {
          "base_uri": "https://localhost:8080/"
        },
        "outputId": "4714c1aa-ed83-4964-879c-571445adcd8d"
      },
      "source": [
        "check_imputer=data.copy()\n",
        " \n",
        "#object of LabelEncoder\n",
        "encoder=preprocessing.LabelEncoder()\n",
        " \n",
        "#function to label the categorical columns ignoring null values \n",
        "def encode(data):\n",
        "    #retains only non-null values\n",
        "    nonulls = np.array(data.dropna())\n",
        "    #reshapes the data for encoding\n",
        "    impute_reshape = nonulls.reshape(-1,1)\n",
        "    #encode date\n",
        "    impute_ordinal = encoder.fit_transform(impute_reshape)\n",
        "    #Assign back encoded values to non-null values\n",
        "    data.loc[data.notnull()] = np.squeeze(impute_ordinal)\n",
        "    return data\n",
        " \n",
        "#loop to label each column or categorical values into numberic\n",
        "for i in tqdm(range(len(object_col))):\n",
        "    encode(check_imputer[object_col[i]])"
      ],
      "execution_count": null,
      "outputs": [
        {
          "output_type": "stream",
          "text": [
            "100%|██████████| 8/8 [00:00<00:00, 80.80it/s]\n"
          ],
          "name": "stderr"
        }
      ]
    },
    {
      "cell_type": "code",
      "metadata": {
        "id": "2QYdTtoZRw0t",
        "colab": {
          "base_uri": "https://localhost:8080/",
          "height": 226
        },
        "outputId": "13d5da40-f016-4c05-ecd4-6900b34943fc"
      },
      "source": [
        "check_imputer.head()"
      ],
      "execution_count": null,
      "outputs": [
        {
          "output_type": "execute_result",
          "data": {
            "text/html": [
              "<div>\n",
              "<style scoped>\n",
              "    .dataframe tbody tr th:only-of-type {\n",
              "        vertical-align: middle;\n",
              "    }\n",
              "\n",
              "    .dataframe tbody tr th {\n",
              "        vertical-align: top;\n",
              "    }\n",
              "\n",
              "    .dataframe thead th {\n",
              "        text-align: right;\n",
              "    }\n",
              "</style>\n",
              "<table border=\"1\" class=\"dataframe\">\n",
              "  <thead>\n",
              "    <tr style=\"text-align: right;\">\n",
              "      <th></th>\n",
              "      <th>make</th>\n",
              "      <th>model</th>\n",
              "      <th>priceUSD</th>\n",
              "      <th>year</th>\n",
              "      <th>condition</th>\n",
              "      <th>mileage(kilometers)</th>\n",
              "      <th>fuel_type</th>\n",
              "      <th>volume(cm3)</th>\n",
              "      <th>color</th>\n",
              "      <th>transmission</th>\n",
              "      <th>drive_unit</th>\n",
              "      <th>segment</th>\n",
              "    </tr>\n",
              "  </thead>\n",
              "  <tbody>\n",
              "    <tr>\n",
              "      <th>0</th>\n",
              "      <td>32</td>\n",
              "      <td>165</td>\n",
              "      <td>565</td>\n",
              "      <td>1993</td>\n",
              "      <td>2</td>\n",
              "      <td>960015.0</td>\n",
              "      <td>2</td>\n",
              "      <td>2000.0</td>\n",
              "      <td>0</td>\n",
              "      <td>1</td>\n",
              "      <td>1</td>\n",
              "      <td>3</td>\n",
              "    </tr>\n",
              "    <tr>\n",
              "      <th>1</th>\n",
              "      <td>24</td>\n",
              "      <td>423</td>\n",
              "      <td>5550</td>\n",
              "      <td>2008</td>\n",
              "      <td>2</td>\n",
              "      <td>172000.0</td>\n",
              "      <td>0</td>\n",
              "      <td>1400.0</td>\n",
              "      <td>10</td>\n",
              "      <td>1</td>\n",
              "      <td>1</td>\n",
              "      <td>7</td>\n",
              "    </tr>\n",
              "    <tr>\n",
              "      <th>2</th>\n",
              "      <td>58</td>\n",
              "      <td>853</td>\n",
              "      <td>8300</td>\n",
              "      <td>2008</td>\n",
              "      <td>2</td>\n",
              "      <td>223000.0</td>\n",
              "      <td>2</td>\n",
              "      <td>2500.0</td>\n",
              "      <td>8</td>\n",
              "      <td>0</td>\n",
              "      <td>1</td>\n",
              "      <td>3</td>\n",
              "    </tr>\n",
              "    <tr>\n",
              "      <th>3</th>\n",
              "      <td>87</td>\n",
              "      <td>417</td>\n",
              "      <td>3300</td>\n",
              "      <td>2005</td>\n",
              "      <td>2</td>\n",
              "      <td>140000.0</td>\n",
              "      <td>2</td>\n",
              "      <td>1200.0</td>\n",
              "      <td>1</td>\n",
              "      <td>1</td>\n",
              "      <td>1</td>\n",
              "      <td>0</td>\n",
              "    </tr>\n",
              "    <tr>\n",
              "      <th>4</th>\n",
              "      <td>58</td>\n",
              "      <td>683</td>\n",
              "      <td>2450</td>\n",
              "      <td>2002</td>\n",
              "      <td>1</td>\n",
              "      <td>413000.0</td>\n",
              "      <td>0</td>\n",
              "      <td>2200.0</td>\n",
              "      <td>3</td>\n",
              "      <td>1</td>\n",
              "      <td>1</td>\n",
              "      <td>3</td>\n",
              "    </tr>\n",
              "  </tbody>\n",
              "</table>\n",
              "</div>"
            ],
            "text/plain": [
              "   make  model  priceUSD  year  ...  color  transmission  drive_unit  segment\n",
              "0    32    165       565  1993  ...      0             1           1        3\n",
              "1    24    423      5550  2008  ...     10             1           1        7\n",
              "2    58    853      8300  2008  ...      8             0           1        3\n",
              "3    87    417      3300  2005  ...      1             1           1        0\n",
              "4    58    683      2450  2002  ...      3             1           1        3\n",
              "\n",
              "[5 rows x 12 columns]"
            ]
          },
          "metadata": {
            "tags": []
          },
          "execution_count": 8
        }
      ]
    },
    {
      "cell_type": "code",
      "metadata": {
        "id": "58aCCRbaR2NN"
      },
      "source": [
        "# Estimate the score on the entire dataset by filling missing values by mean and median\n",
        "\n",
        "br_estimator = BayesianRidge() #base estimator\n",
        "N_SPLITS = 6  #defining the cross-validation splitting strategy\n",
        "\n",
        "score_simple_imputer = pd.DataFrame() #dataframe to store error of imputer\n",
        "#computing MSE for mean and median\n",
        "for strategy in ('mean', 'median'):\n",
        "    X=check_imputer.iloc[:,:-1]\n",
        "    y = np.ravel(check_imputer.iloc[:,-1:])\n",
        "    estimator = make_pipeline(SimpleImputer(missing_values=np.nan, strategy=strategy),br_estimator)\n",
        "    score_simple_imputer[strategy] = cross_val_score(estimator, X, y, scoring='neg_mean_squared_error',cv=N_SPLITS)\n",
        "    "
      ],
      "execution_count": null,
      "outputs": []
    },
    {
      "cell_type": "code",
      "metadata": {
        "id": "kkeoiNZlSQ20",
        "colab": {
          "base_uri": "https://localhost:8080/"
        },
        "outputId": "1f5f0ae5-63df-4de7-9765-dadc7be0278a"
      },
      "source": [
        "\n",
        "# Estimate the score on the entire dataset by filling missing values by 4 different iterative imputer\n",
        "\n",
        "\n",
        "#estimators for IterativeImputer\n",
        "estimators = [\n",
        "    BayesianRidge(),\n",
        "    DecisionTreeRegressor(max_features='sqrt', random_state=0),\n",
        "    ExtraTreesRegressor(n_estimators=10, random_state=0),\n",
        "    KNeighborsRegressor(n_neighbors=15)\n",
        "]\n",
        "score_iterative_imputer = pd.DataFrame()\n",
        "for esti in estimators:\n",
        "        print(\"Estimating\",esti.__class__.__name__)\n",
        "        imputer = IterativeImputer(esti)\n",
        "        df_new=check_imputer.copy()\n",
        "        for col in check_imputer.columns:\n",
        "            #col=check_imputer.columns[i]\n",
        "            impute_data=imputer.fit_transform(df_new[col].values.reshape(-1,1))\n",
        "            impute_data=impute_data.astype('int64')\n",
        "            impute_data = pd.DataFrame(np.ravel(impute_data))\n",
        "            df_new[col]=impute_data\n",
        "        X=df_new.iloc[:,:-1]\n",
        "        #y=check_imputer.iloc[:,-1:].values.ravel()\n",
        "        y = np.ravel(df_new.iloc[:,-1:])\n",
        "        score_iterative_imputer[esti.__class__.__name__] = cross_val_score(esti,X,y,scoring='neg_mean_squared_error',cv=6)"
      ],
      "execution_count": null,
      "outputs": [
        {
          "output_type": "stream",
          "text": [
            "Estimating BayesianRidge\n",
            "Estimating DecisionTreeRegressor\n",
            "Estimating ExtraTreesRegressor\n",
            "Estimating KNeighborsRegressor\n"
          ],
          "name": "stdout"
        }
      ]
    },
    {
      "cell_type": "code",
      "metadata": {
        "id": "lQVq35iqSzsm",
        "colab": {
          "base_uri": "https://localhost:8080/",
          "height": 443
        },
        "outputId": "d4dd4494-9d75-42d3-a6ca-3b0de5d75e83"
      },
      "source": [
        "#ploting the graphs of scores each method\n",
        "scores = pd.concat(\n",
        "    [score_simple_imputer, score_iterative_imputer],\n",
        "    keys=['SimpleImputer', 'IterativeImputer'], axis=1\n",
        ")\n",
        "fig, ax = plt.subplots(figsize=(12, 6))\n",
        "means = -scores.mean()\n",
        "errors = scores.std()\n",
        "means.plot.barh(xerr=errors, ax=ax)\n",
        "ax.set_title('MSE with Different Imputation Methods')\n",
        "ax.set_xlabel('MSE (smaller value is better)')\n",
        "ax.set_yticks(np.arange(means.shape[0]))\n",
        "ax.set_yticklabels(means.index.tolist())\n",
        "plt.tight_layout(pad=1)\n",
        "plt.savefig('different-imputations-method',dpi=None)\n",
        "plt.show()"
      ],
      "execution_count": null,
      "outputs": [
        {
          "output_type": "display_data",
          "data": {
            "image/png": "[encoded data removed]",
            "text/plain": [
              "<Figure size 864x432 with 1 Axes>"
            ]
          },
          "metadata": {
            "tags": [],
            "needs_background": "light"
          }
        }
      ]
    },
    {
      "cell_type": "code",
      "metadata": {
        "id": "3YzZ0V7dVODA"
      },
      "source": [
        "data_cat=data[object_col]\n",
        "encoder=preprocessing.LabelEncoder()\n",
        "\n",
        "#create a for loop to iterate through each column in the data\n",
        "for columns in object_col:\n",
        "    encode(data_cat[columns])\n",
        "    imputer = IterativeImputer(ExtraTreesRegressor(n_estimators=10, random_state=0)) # ExtraTreesRegressor\n",
        "    impute_data=imputer.fit_transform(data_cat[columns].values.reshape(-1, 1))\n",
        "    impute_data=impute_data.astype('int64')\n",
        "    impute_data = pd.DataFrame(impute_data)\n",
        "    impute_data =encoder.inverse_transform(impute_data.values.reshape(-1, 1))\n",
        "    data_cat[columns]=impute_data\n",
        "data[object_col]=data_cat"
      ],
      "execution_count": null,
      "outputs": []
    },
    {
      "cell_type": "code",
      "metadata": {
        "id": "LowUCFwqVjTs"
      },
      "source": [
        "data_num=data[num_col]\n",
        "imputer_num=IterativeImputer(estimators[2]) #estimators[2] = ExtraTreesRegressor\n",
        "impute_data=imputer_num.fit_transform(data_num)\n",
        "data[num_col]=impute_data"
      ],
      "execution_count": null,
      "outputs": []
    },
    {
      "cell_type": "code",
      "metadata": {
        "id": "TYiCmM1JXqJS",
        "colab": {
          "base_uri": "https://localhost:8080/",
          "height": 377
        },
        "outputId": "f740a2f0-5e76-40d6-f0c9-d8ff51591207"
      },
      "source": [
        "#Heat map tp check numm values visually\n",
        "sns.heatmap(data.isnull(),yticklabels=False,cbar=True,cmap='Accent')"
      ],
      "execution_count": null,
      "outputs": [
        {
          "output_type": "execute_result",
          "data": {
            "text/plain": [
              "<matplotlib.axes._subplots.AxesSubplot at 0x7f3044cc1278>"
            ]
          },
          "metadata": {
            "tags": []
          },
          "execution_count": 14
        },
        {
          "output_type": "display_data",
          "data": {
            "image/png": "[encoded data removed]",
            "text/plain": [
              "<Figure size 432x288 with 2 Axes>"
            ]
          },
          "metadata": {
            "tags": [],
            "needs_background": "light"
          }
        }
      ]
    },
    {
      "cell_type": "code",
      "metadata": {
        "id": "7QHjojMHYWfE",
        "colab": {
          "base_uri": "https://localhost:8080/"
        },
        "outputId": "eee31178-a9bb-4ea6-b683-e390393baaa3"
      },
      "source": [
        "data.isnull().sum()"
      ],
      "execution_count": null,
      "outputs": [
        {
          "output_type": "execute_result",
          "data": {
            "text/plain": [
              "make                   0\n",
              "model                  0\n",
              "priceUSD               0\n",
              "year                   0\n",
              "condition              0\n",
              "mileage(kilometers)    0\n",
              "fuel_type              0\n",
              "volume(cm3)            0\n",
              "color                  0\n",
              "transmission           0\n",
              "drive_unit             0\n",
              "segment                0\n",
              "dtype: int64"
            ]
          },
          "metadata": {
            "tags": []
          },
          "execution_count": 15
        }
      ]
    },
    {
      "cell_type": "code",
      "metadata": {
        "id": "pTzyGLOJYqf0"
      },
      "source": [
        "data.to_csv('Cleaned_cars_data',index=False)"
      ],
      "execution_count": null,
      "outputs": []
    },
    {
      "cell_type": "markdown",
      "metadata": {
        "id": "ilEP_Dehe3-Z"
      },
      "source": [
        "# **Data Visalization**\n"
      ]
    },
    {
      "cell_type": "code",
      "metadata": {
        "id": "Dco-FXFiZRYn"
      },
      "source": [
        "cleaned_data = pd.read_csv(os.path.join('/content/','Cleaned_cars_data'))# Retriving Data without missing value."
      ],
      "execution_count": null,
      "outputs": []
    },
    {
      "cell_type": "code",
      "metadata": {
        "id": "Y0_qPlwrC7Kb",
        "colab": {
          "base_uri": "https://localhost:8080/",
          "height": 309
        },
        "outputId": "b7d9de5b-67ce-4dd0-e4ca-84a84e70a51e"
      },
      "source": [
        "cleaned_data.head() #observe Data"
      ],
      "execution_count": null,
      "outputs": [
        {
          "output_type": "execute_result",
          "data": {
            "text/html": [
              "<div>\n",
              "<style scoped>\n",
              "    .dataframe tbody tr th:only-of-type {\n",
              "        vertical-align: middle;\n",
              "    }\n",
              "\n",
              "    .dataframe tbody tr th {\n",
              "        vertical-align: top;\n",
              "    }\n",
              "\n",
              "    .dataframe thead th {\n",
              "        text-align: right;\n",
              "    }\n",
              "</style>\n",
              "<table border=\"1\" class=\"dataframe\">\n",
              "  <thead>\n",
              "    <tr style=\"text-align: right;\">\n",
              "      <th></th>\n",
              "      <th>make</th>\n",
              "      <th>model</th>\n",
              "      <th>priceUSD</th>\n",
              "      <th>year</th>\n",
              "      <th>condition</th>\n",
              "      <th>mileage(kilometers)</th>\n",
              "      <th>fuel_type</th>\n",
              "      <th>volume(cm3)</th>\n",
              "      <th>color</th>\n",
              "      <th>transmission</th>\n",
              "      <th>drive_unit</th>\n",
              "      <th>segment</th>\n",
              "    </tr>\n",
              "  </thead>\n",
              "  <tbody>\n",
              "    <tr>\n",
              "      <th>0</th>\n",
              "      <td>honda</td>\n",
              "      <td>accord</td>\n",
              "      <td>565.0</td>\n",
              "      <td>1993.0</td>\n",
              "      <td>with mileage</td>\n",
              "      <td>960015.0</td>\n",
              "      <td>petrol</td>\n",
              "      <td>2000.0</td>\n",
              "      <td>black</td>\n",
              "      <td>mechanics</td>\n",
              "      <td>front-wheel drive</td>\n",
              "      <td>D</td>\n",
              "    </tr>\n",
              "    <tr>\n",
              "      <th>1</th>\n",
              "      <td>ford</td>\n",
              "      <td>fusion</td>\n",
              "      <td>5550.0</td>\n",
              "      <td>2008.0</td>\n",
              "      <td>with mileage</td>\n",
              "      <td>172000.0</td>\n",
              "      <td>diesel</td>\n",
              "      <td>1400.0</td>\n",
              "      <td>silver</td>\n",
              "      <td>mechanics</td>\n",
              "      <td>front-wheel drive</td>\n",
              "      <td>M</td>\n",
              "    </tr>\n",
              "    <tr>\n",
              "      <th>2</th>\n",
              "      <td>nissan</td>\n",
              "      <td>teana</td>\n",
              "      <td>8300.0</td>\n",
              "      <td>2008.0</td>\n",
              "      <td>with mileage</td>\n",
              "      <td>223000.0</td>\n",
              "      <td>petrol</td>\n",
              "      <td>2500.0</td>\n",
              "      <td>purple</td>\n",
              "      <td>auto</td>\n",
              "      <td>front-wheel drive</td>\n",
              "      <td>D</td>\n",
              "    </tr>\n",
              "    <tr>\n",
              "      <th>3</th>\n",
              "      <td>volkswagen</td>\n",
              "      <td>fox</td>\n",
              "      <td>3300.0</td>\n",
              "      <td>2005.0</td>\n",
              "      <td>with mileage</td>\n",
              "      <td>140000.0</td>\n",
              "      <td>petrol</td>\n",
              "      <td>1200.0</td>\n",
              "      <td>blue</td>\n",
              "      <td>mechanics</td>\n",
              "      <td>front-wheel drive</td>\n",
              "      <td>A</td>\n",
              "    </tr>\n",
              "    <tr>\n",
              "      <th>4</th>\n",
              "      <td>nissan</td>\n",
              "      <td>primera</td>\n",
              "      <td>2450.0</td>\n",
              "      <td>2002.0</td>\n",
              "      <td>with damage</td>\n",
              "      <td>413000.0</td>\n",
              "      <td>diesel</td>\n",
              "      <td>2200.0</td>\n",
              "      <td>burgundy</td>\n",
              "      <td>mechanics</td>\n",
              "      <td>front-wheel drive</td>\n",
              "      <td>D</td>\n",
              "    </tr>\n",
              "  </tbody>\n",
              "</table>\n",
              "</div>"
            ],
            "text/plain": [
              "         make    model  priceUSD  ...  transmission         drive_unit  segment\n",
              "0       honda   accord     565.0  ...     mechanics  front-wheel drive        D\n",
              "1        ford   fusion    5550.0  ...     mechanics  front-wheel drive        M\n",
              "2      nissan    teana    8300.0  ...          auto  front-wheel drive        D\n",
              "3  volkswagen      fox    3300.0  ...     mechanics  front-wheel drive        A\n",
              "4      nissan  primera    2450.0  ...     mechanics  front-wheel drive        D\n",
              "\n",
              "[5 rows x 12 columns]"
            ]
          },
          "metadata": {
            "tags": []
          },
          "execution_count": 18
        }
      ]
    },
    {
      "cell_type": "code",
      "metadata": {
        "id": "gO6WL_eTb7fy"
      },
      "source": [
        "#cleaned_data['volume(cm3)'].value_counts()"
      ],
      "execution_count": null,
      "outputs": []
    },
    {
      "cell_type": "code",
      "metadata": {
        "id": "jkqJawEBUXTm",
        "colab": {
          "base_uri": "https://localhost:8080/",
          "height": 416
        },
        "outputId": "ba57612f-e07f-43ed-aeff-7e254fbc3c08"
      },
      "source": [
        "'''\n",
        "Top 15 cars brand name that was most\n",
        "frequently used.\n",
        " \n",
        "'''\n",
        " \n",
        "plt.figure(figsize=(15,5))\n",
        "ax = cleaned_data['make'].value_counts(normalize = True).head(15).plot(kind='bar', color = 'orange')\n",
        "plt.title('Top 15 Car Brands')\n",
        "plt.xlabel('Brands')\n",
        "plt.ylabel('Percentage of cars ')\n",
        "vals = ax.get_yticks()\n",
        "ax.set_yticklabels(['{:,.2%}'.format(x) for x in vals])\n",
        "plt.show()"
      ],
      "execution_count": null,
      "outputs": [
        {
          "output_type": "display_data",
          "data": {
            "image/png": "[encoded data removed]",
            "text/plain": [
              "<Figure size 1080x360 with 1 Axes>"
            ]
          },
          "metadata": {
            "tags": [],
            "needs_background": "light"
          }
        }
      ]
    },
    {
      "cell_type": "code",
      "metadata": {
        "id": "zK3rkXWLn2wU",
        "colab": {
          "base_uri": "https://localhost:8080/",
          "height": 652
        },
        "outputId": "b5b0b8f7-24f8-4828-f292-2164be40a7d8"
      },
      "source": [
        "\n",
        "''' \n",
        "Top 15 models of the brand's which was used most frequently\n",
        "'''\n",
        "plt.figure(figsize=(15,10))\n",
        "ax = cleaned_data['model'].value_counts(normalize = True).head(15).plot(kind='bar', color = 'blue')\n",
        "plt.title('Cars Top 15 model')\n",
        "plt.xlabel('Models')\n",
        "plt.ylabel('Percentage of cars ')\n",
        "vals = ax.get_yticks()\n",
        "ax.set_yticklabels(['{:,.2%}'.format(x) for x in vals])\n",
        "plt.show()"
      ],
      "execution_count": null,
      "outputs": [
        {
          "output_type": "display_data",
          "data": {
            "image/png": "[encoded data removed]",
            "text/plain": [
              "<Figure size 1080x720 with 1 Axes>"
            ]
          },
          "metadata": {
            "tags": [],
            "needs_background": "light"
          }
        }
      ]
    },
    {
      "cell_type": "code",
      "metadata": {
        "id": "9V_-pRf6pUE0",
        "colab": {
          "base_uri": "https://localhost:8080/",
          "height": 585
        },
        "outputId": "a9a1f45a-2bdb-4821-b743-dfe2ca89222f"
      },
      "source": [
        " \n",
        "'''\n",
        " The condition of the cars come with mileage.\n",
        "'''\n",
        "ax = cleaned_data.groupby(['condition', 'segment']).priceUSD.count().unstack().plot(kind = 'bar',figsize = (12,8) )\n",
        "plt.ylabel(\"Number of Cars\")\n",
        "plt.xlabel(\"condition\")\n",
        "plt.title('Number of cars by segment')"
      ],
      "execution_count": null,
      "outputs": [
        {
          "output_type": "execute_result",
          "data": {
            "text/plain": [
              "Text(0.5, 1.0, 'Number of cars by segment')"
            ]
          },
          "metadata": {
            "tags": []
          },
          "execution_count": 21
        },
        {
          "output_type": "display_data",
          "data": {
            "image/png": "[encoded data removed]",
            "text/plain": [
              "<Figure size 864x576 with 1 Axes>"
            ]
          },
          "metadata": {
            "tags": [],
            "needs_background": "light"
          }
        }
      ]
    },
    {
      "cell_type": "code",
      "metadata": {
        "id": "XODkcTvN6OrZ",
        "colab": {
          "base_uri": "https://localhost:8080/",
          "height": 567
        },
        "outputId": "00dc3efe-0138-41d4-bac7-e073874dbef8"
      },
      "source": [
        "\n",
        "'''\n",
        "Car usage is more in late 19s and early 20s and price \n",
        "is increasing as the year is increasing.\n",
        "'''\n",
        "sns.pairplot(cleaned_data[['priceUSD','mileage(kilometers)','year']])"
      ],
      "execution_count": null,
      "outputs": [
        {
          "output_type": "execute_result",
          "data": {
            "text/plain": [
              "<seaborn.axisgrid.PairGrid at 0x7f304073f208>"
            ]
          },
          "metadata": {
            "tags": []
          },
          "execution_count": 24
        },
        {
          "output_type": "display_data",
          "data": {
            "image/png": "[encoded data removed]",
            "text/plain": [
              "<Figure size 540x540 with 12 Axes>"
            ]
          },
          "metadata": {
            "tags": [],
            "needs_background": "light"
          }
        }
      ]
    },
    {
      "cell_type": "code",
      "metadata": {
        "id": "vHgppM-O6Frx"
      },
      "source": [
        "'''\n",
        "Most car runs on petrol and diesel. On early 20s, electrocars are also started to use\n",
        "'''"
      ],
      "execution_count": null,
      "outputs": []
    },
    {
      "cell_type": "code",
      "metadata": {
        "id": "Fbtapeu-K7Mz"
      },
      "source": [
        "import numpy as np\n",
        "import matplotlib.pyplot as plt\n",
        "import matplotlib.cm as cm\n",
        "plt.figure(figsize=(15,5))\n",
        "x = cleaned_data.year.values\n",
        "ys = cleaned_data.priceUSD.values\n",
        "print(len(x),len(ys))\n",
        "fuel = cleaned_data.fuel_type.values\n",
        "colors = {'petrol':'red','diesel':'orange','electrocar':'green',}\n",
        "i = 0\n",
        "for y, c in zip(ys, fuel):\n",
        "    plt.scatter(x[i], y, color=colors[c])\n",
        "    print(i)\n",
        "    i += 1\n",
        "plt.savefig('price-fuel-year.png')\n",
        "plt.xlabel('Year')\n",
        "plt.ylabel('Price in USD')\n",
        "plt.legend(colors.keys())\n",
        "plt.savefig('price-fuel-year.PNG')"
      ],
      "execution_count": null,
      "outputs": []
    },
    {
      "cell_type": "code",
      "metadata": {
        "id": "yLl-Vlivmem4",
        "colab": {
          "base_uri": "https://localhost:8080/",
          "height": 335
        },
        "outputId": "5727c879-9b89-48bf-b6f7-963187ba9c42"
      },
      "source": [
        "from IPython.display import Image\n",
        "Image('/content/price-fuel-year.PNG')"
      ],
      "execution_count": null,
      "outputs": [
        {
          "output_type": "execute_result",
          "data": {
            "image/png": "[encoded data removed]",
            "text/plain": [
              "<IPython.core.display.Image object>"
            ]
          },
          "metadata": {
            "tags": []
          },
          "execution_count": 32
        }
      ]
    },
    {
      "cell_type": "markdown",
      "metadata": {
        "id": "RZaAurpO8GyA"
      },
      "source": [
        "# **Hypothesis Testing**\n",
        "\n",
        "1.   **chi-Square Test**\n",
        "\n",
        "     *To check whether there is significant relationship between two varibles segment and transmission.*"
      ]
    },
    {
      "cell_type": "code",
      "metadata": {
        "colab": {
          "base_uri": "https://localhost:8080/"
        },
        "id": "pOgI89c54jax",
        "outputId": "c7939c52-15af-4a68-a798-14def79b61c2"
      },
      "source": [
        "from scipy import stats\n",
        "dataset_table=pd.crosstab(cleaned_data['segment'],cleaned_data['transmission'])\n",
        "print(dataset_table)\n",
        "print('-'*50)\n",
        "\n",
        "#Observed Values\n",
        "Observed_Values = dataset_table.values \n",
        "print(\"Observed Values :-\\n\",Observed_Values)\n",
        "print('-'*50)\n",
        "val=stats.chi2_contingency(dataset_table)\n",
        "print('chi2_contingency',val)\n",
        "print('-'*50)\n",
        "Expected_Values=val[3]\n",
        "\n",
        "no_of_rows=len(dataset_table.iloc[0:2,0])\n",
        "no_of_columns=len(dataset_table.iloc[0,0:2])\n",
        "ddof=(no_of_rows-1)*(no_of_columns-1)\n",
        "print(\"Degree of Freedom:-\",ddof)\n",
        "alpha = 0.05\n",
        "print('-'*50)\n",
        "from scipy.stats import chi2\n",
        "chi_square=sum([(o-e)**2./e for o,e in zip(Observed_Values,Expected_Values)]) #chi square formula\n",
        "chi_square_statistic=chi_square[0]+chi_square[1]\n",
        "print(\"chi-square statistic:-\",chi_square_statistic)\n",
        "print('-'*50)\n",
        "critical_value=chi2.ppf(q=1-alpha,df=ddof)\n",
        "print('critical_value:',critical_value)\n",
        "print('-'*50)\n",
        "\n",
        "#p-value\n",
        "p_value=1-chi2.cdf(x=chi_square_statistic,df=ddof)\n",
        "print('p-value:',p_value)\n",
        "print('Significance level: ',alpha)\n",
        "print('Degree of Freedom: ',ddof)\n",
        "print('p-value:',p_value)\n",
        "print('-'*50)\n",
        "\n",
        "\n",
        "if chi_square_statistic>=critical_value:\n",
        "    print(\"Reject H0,There is a relationship between 2 categorical variables\")\n",
        "else:\n",
        "    print(\"Retain H0,There is no relationship between 2 categorical variables\")\n",
        "    \n",
        "if p_value<=alpha:\n",
        "    print(\"Reject H0,There is a relationship between 2 categorical variables\")\n",
        "else:\n",
        "    print(\"Retain H0,There is no relationship between 2 categorical variables\")"
      ],
      "execution_count": null,
      "outputs": [
        {
          "output_type": "stream",
          "text": [
            "transmission  auto  mechanics\n",
            "segment                      \n",
            "A               84        248\n",
            "B              478       2650\n",
            "C             1611       5898\n",
            "D             3979       8761\n",
            "E             1892       2499\n",
            "F              631         27\n",
            "J             4420       1741\n",
            "M              760       3772\n",
            "S              515         34\n",
            "--------------------------------------------------\n",
            "Observed Values :-\n",
            " [[  84  248]\n",
            " [ 478 2650]\n",
            " [1611 5898]\n",
            " [3979 8761]\n",
            " [1892 2499]\n",
            " [ 631   27]\n",
            " [4420 1741]\n",
            " [ 760 3772]\n",
            " [ 515   34]]\n",
            "--------------------------------------------------\n",
            "chi2_contingency (7481.260450871147, 0.0, 8, array([[ 119.271  ,  212.729  ],\n",
            "       [1123.734  , 2004.266  ],\n",
            "       [2697.60825, 4811.39175],\n",
            "       [4576.845  , 8163.155  ],\n",
            "       [1577.46675, 2813.53325],\n",
            "       [ 236.3865 ,  421.6135 ],\n",
            "       [2213.33925, 3947.66075],\n",
            "       [1628.121  , 2903.879  ],\n",
            "       [ 197.22825,  351.77175]]))\n",
            "--------------------------------------------------\n",
            "Degree of Freedom:- 1\n",
            "--------------------------------------------------\n",
            "chi-square statistic:- 7481.2604508711465\n",
            "--------------------------------------------------\n",
            "critical_value: 3.841458820694124\n",
            "--------------------------------------------------\n",
            "p-value: 0.0\n",
            "Significance level:  0.05\n",
            "Degree of Freedom:  1\n",
            "p-value: 0.0\n",
            "--------------------------------------------------\n",
            "Reject H0,There is a relationship between 2 categorical variables\n",
            "Reject H0,There is a relationship between 2 categorical variables\n"
          ],
          "name": "stdout"
        }
      ]
    },
    {
      "cell_type": "markdown",
      "metadata": {
        "id": "2CrmdAof9YCV"
      },
      "source": [
        "\n",
        "\n",
        "**2.   T-test**\n",
        "        *To checker whether there is siqnigicant difference between mean of petrol's and diesel's prices.*\n",
        "\n",
        "\n",
        "     "
      ]
    },
    {
      "cell_type": "code",
      "metadata": {
        "id": "BD88tgs4_Znd",
        "colab": {
          "base_uri": "https://localhost:8080/"
        },
        "outputId": "4a67423a-3802-467a-983e-150946454411"
      },
      "source": [
        " from scipy.stats import ttest_ind\n",
        "# Null Hypothesis - H0: Mean price of diesel is equal to the mean price of petrol\n",
        "# Alternative Hypothesis - H1: Mean price of diesel is different than the mean price of petrol\n",
        "\n",
        "diesel = cleaned_data[cleaned_data.fuel_type == 'diesel'].priceUSD\n",
        "petrol = cleaned_data[cleaned_data.fuel_type == 'petrol'].priceUSD\n",
        "\n",
        "statistics,pval = ttest_ind(diesel, petrol)\n",
        "print(statistics,pval)\n",
        "if pval < 0.05:\n",
        "  print(\"H0 is rejected\")\n",
        "else:\n",
        "  print(\"H0 is accepted\")\n",
        "# Ttest_indResult(statistic=181.92229245543183, pvalue=0.0)\n",
        "\n",
        "# Reject Null Hypthesis\n",
        "# p-value << 0.05 \n",
        "# Mean price of diesel is different than the mean price of gas"
      ],
      "execution_count": null,
      "outputs": [
        {
          "output_type": "stream",
          "text": [
            "20.49631573375047 6.986510108373176e-93\n",
            "H0 is rejected\n"
          ],
          "name": "stdout"
        }
      ]
    },
    {
      "cell_type": "markdown",
      "metadata": {
        "id": "-JznkvJh-vcE"
      },
      "source": [
        "\n",
        "\n",
        "**3.   Annova two way testing**\n",
        "      *To check the signification relation between price and affiliated groupby segment.*\n"
      ]
    },
    {
      "cell_type": "code",
      "metadata": {
        "id": "FCUvyHe9PLpa",
        "colab": {
          "base_uri": "https://localhost:8080/",
          "height": 111
        },
        "outputId": "0fc13c4c-7997-4e5b-ecf8-805e772c2937"
      },
      "source": [
        "from statsmodels.formula.api import ols\n",
        "import statsmodels.api as sm\n",
        "# Null Hypothesis: There is significant relation\n",
        "# Alt-Hypothesis: There is no significant relation between price and segment. \n",
        "\n",
        "\n",
        "model = ols('priceUSD ~ transmission',data=cleaned_data).fit()\n",
        "annova = sm.stats.anova_lm(model,type=2)\n",
        "annova\n",
        "\n",
        "\n",
        "# p-value = 0\n",
        "# F-stat = 10147.157098\n",
        "# Reject Null Hypothesis\n",
        "# There is a significant relation between price and segment."
      ],
      "execution_count": null,
      "outputs": [
        {
          "output_type": "execute_result",
          "data": {
            "text/html": [
              "<div>\n",
              "<style scoped>\n",
              "    .dataframe tbody tr th:only-of-type {\n",
              "        vertical-align: middle;\n",
              "    }\n",
              "\n",
              "    .dataframe tbody tr th {\n",
              "        vertical-align: top;\n",
              "    }\n",
              "\n",
              "    .dataframe thead th {\n",
              "        text-align: right;\n",
              "    }\n",
              "</style>\n",
              "<table border=\"1\" class=\"dataframe\">\n",
              "  <thead>\n",
              "    <tr style=\"text-align: right;\">\n",
              "      <th></th>\n",
              "      <th>df</th>\n",
              "      <th>sum_sq</th>\n",
              "      <th>mean_sq</th>\n",
              "      <th>F</th>\n",
              "      <th>PR(&gt;F)</th>\n",
              "    </tr>\n",
              "  </thead>\n",
              "  <tbody>\n",
              "    <tr>\n",
              "      <th>transmission</th>\n",
              "      <td>1.0</td>\n",
              "      <td>5.627474e+11</td>\n",
              "      <td>5.627474e+11</td>\n",
              "      <td>10147.157098</td>\n",
              "      <td>0.0</td>\n",
              "    </tr>\n",
              "    <tr>\n",
              "      <th>Residual</th>\n",
              "      <td>39998.0</td>\n",
              "      <td>2.218234e+12</td>\n",
              "      <td>5.545863e+07</td>\n",
              "      <td>NaN</td>\n",
              "      <td>NaN</td>\n",
              "    </tr>\n",
              "  </tbody>\n",
              "</table>\n",
              "</div>"
            ],
            "text/plain": [
              "                   df        sum_sq       mean_sq             F  PR(>F)\n",
              "transmission      1.0  5.627474e+11  5.627474e+11  10147.157098     0.0\n",
              "Residual      39998.0  2.218234e+12  5.545863e+07           NaN     NaN"
            ]
          },
          "metadata": {
            "tags": []
          },
          "execution_count": 23
        }
      ]
    },
    {
      "cell_type": "markdown",
      "metadata": {
        "id": "ZcmfU0sUA142"
      },
      "source": [
        "# **Data Preprocessing**"
      ]
    },
    {
      "cell_type": "code",
      "metadata": {
        "id": "IKootl66ROzb"
      },
      "source": [
        "\n",
        "''' applying z-score to remove outlier on all numeric columns'''\n",
        "data1 = cleaned_data[cleaned_data[num_col].apply(lambda x: np.abs(x - x.mean()) / x.std() < 3).all(axis=1)]"
      ],
      "execution_count": null,
      "outputs": []
    },
    {
      "cell_type": "code",
      "metadata": {
        "id": "8iKMPSxHWRiy",
        "colab": {
          "base_uri": "https://localhost:8080/"
        },
        "outputId": "0fb4f6f8-1da8-4d54-c996-21a9e24556d5"
      },
      "source": [
        "data1.shape"
      ],
      "execution_count": null,
      "outputs": [
        {
          "output_type": "execute_result",
          "data": {
            "text/plain": [
              "(38629, 12)"
            ]
          },
          "metadata": {
            "tags": []
          },
          "execution_count": 25
        }
      ]
    },
    {
      "cell_type": "code",
      "metadata": {
        "id": "f90fN_mefCeZ"
      },
      "source": [
        "val = dict(data1['model'].value_counts())# frequency count of the column"
      ],
      "execution_count": null,
      "outputs": []
    },
    {
      "cell_type": "code",
      "metadata": {
        "id": "vQHgkqCEFLyW"
      },
      "source": [
        " \n",
        "''' keep track of values whose frequency count \n",
        "is more than or equal to 100 for the \n",
        "column name model'''\n",
        "model_col = []\n",
        "for a,b in val.items():\n",
        "  if b >= 100:\n",
        "    model_col.append(a)"
      ],
      "execution_count": null,
      "outputs": []
    },
    {
      "cell_type": "code",
      "metadata": {
        "id": "GS-sPePpMqwX",
        "colab": {
          "base_uri": "https://localhost:8080/"
        },
        "outputId": "0269c3ba-661e-40d8-900d-f22ae95f92ff"
      },
      "source": [
        "\n",
        "''' filter out the data by only considering the rows having the model count greater or equal to 100'''\n",
        "data =data1[data1['model'].isin(model_col)]\n",
        "print(data.shape)\n",
        "''' remove the row enteries that have fuel type electrocar as it's occurrence is very less.'''\n",
        "data = data[data['fuel_type'] != 'electrocar']"
      ],
      "execution_count": null,
      "outputs": [
        {
          "output_type": "stream",
          "text": [
            "(24598, 12)\n"
          ],
          "name": "stdout"
        }
      ]
    },
    {
      "cell_type": "code",
      "metadata": {
        "id": "idd_MWNVQBqj"
      },
      "source": [
        " \n",
        "# Applying ranking label encoding \n",
        "data['segment'] = data['segment'].map({\"A\":1,\"B\":2,\"C\":3,\"D\":4,\"E\":5,\"F\":6,\"J\":7,\"M\":8,\"S\":9})\n",
        "\n",
        "#Count Frequency encoding on columns whose unique feature count > 10\n",
        "model_col = dict(data['model'].value_counts())\n",
        "data['model'] = data['model'].map(model_col)\n",
        "make_col = dict(data['make'].value_counts()) \n",
        "data['make'] = data['make'].map(make_col)\n",
        "color_col = dict(data['color'].value_counts()) \n",
        "data['color'] = data['color'].map(color_col)"
      ],
      "execution_count": null,
      "outputs": []
    },
    {
      "cell_type": "code",
      "metadata": {
        "id": "r8ya3093eY0s"
      },
      "source": [
        " \n",
        "#Onehot  encoding of the data by considering dummy variable trap, N-1 columns are taken into account.\n",
        "new_data = pd.get_dummies(data,drop_first=True)"
      ],
      "execution_count": null,
      "outputs": []
    },
    {
      "cell_type": "code",
      "metadata": {
        "id": "Eq92aCqngxCW",
        "colab": {
          "base_uri": "https://localhost:8080/",
          "height": 473
        },
        "outputId": "8adb01c6-16f1-4077-c76b-f6dac32f1ede"
      },
      "source": [
        "new_data # data after onehot encoded"
      ],
      "execution_count": null,
      "outputs": [
        {
          "output_type": "execute_result",
          "data": {
            "text/html": [
              "<div>\n",
              "<style scoped>\n",
              "    .dataframe tbody tr th:only-of-type {\n",
              "        vertical-align: middle;\n",
              "    }\n",
              "\n",
              "    .dataframe tbody tr th {\n",
              "        vertical-align: top;\n",
              "    }\n",
              "\n",
              "    .dataframe thead th {\n",
              "        text-align: right;\n",
              "    }\n",
              "</style>\n",
              "<table border=\"1\" class=\"dataframe\">\n",
              "  <thead>\n",
              "    <tr style=\"text-align: right;\">\n",
              "      <th></th>\n",
              "      <th>make</th>\n",
              "      <th>model</th>\n",
              "      <th>priceUSD</th>\n",
              "      <th>year</th>\n",
              "      <th>mileage(kilometers)</th>\n",
              "      <th>volume(cm3)</th>\n",
              "      <th>color</th>\n",
              "      <th>segment</th>\n",
              "      <th>condition_with damage</th>\n",
              "      <th>condition_with mileage</th>\n",
              "      <th>fuel_type_petrol</th>\n",
              "      <th>transmission_mechanics</th>\n",
              "      <th>drive_unit_front-wheel drive</th>\n",
              "      <th>drive_unit_part-time four-wheel drive</th>\n",
              "      <th>drive_unit_rear drive</th>\n",
              "    </tr>\n",
              "  </thead>\n",
              "  <tbody>\n",
              "    <tr>\n",
              "      <th>0</th>\n",
              "      <td>405</td>\n",
              "      <td>196</td>\n",
              "      <td>565.0</td>\n",
              "      <td>1993.0</td>\n",
              "      <td>960015.0</td>\n",
              "      <td>2000.0</td>\n",
              "      <td>5468</td>\n",
              "      <td>4</td>\n",
              "      <td>0</td>\n",
              "      <td>1</td>\n",
              "      <td>1</td>\n",
              "      <td>1</td>\n",
              "      <td>1</td>\n",
              "      <td>0</td>\n",
              "      <td>0</td>\n",
              "    </tr>\n",
              "    <tr>\n",
              "      <th>4</th>\n",
              "      <td>888</td>\n",
              "      <td>323</td>\n",
              "      <td>2450.0</td>\n",
              "      <td>2002.0</td>\n",
              "      <td>413000.0</td>\n",
              "      <td>2200.0</td>\n",
              "      <td>869</td>\n",
              "      <td>4</td>\n",
              "      <td>1</td>\n",
              "      <td>0</td>\n",
              "      <td>0</td>\n",
              "      <td>1</td>\n",
              "      <td>1</td>\n",
              "      <td>0</td>\n",
              "      <td>0</td>\n",
              "    </tr>\n",
              "    <tr>\n",
              "      <th>5</th>\n",
              "      <td>888</td>\n",
              "      <td>163</td>\n",
              "      <td>18900.0</td>\n",
              "      <td>2016.0</td>\n",
              "      <td>148000.0</td>\n",
              "      <td>1600.0</td>\n",
              "      <td>5468</td>\n",
              "      <td>7</td>\n",
              "      <td>0</td>\n",
              "      <td>1</td>\n",
              "      <td>0</td>\n",
              "      <td>1</td>\n",
              "      <td>1</td>\n",
              "      <td>0</td>\n",
              "      <td>0</td>\n",
              "    </tr>\n",
              "    <tr>\n",
              "      <th>6</th>\n",
              "      <td>495</td>\n",
              "      <td>137</td>\n",
              "      <td>2000.0</td>\n",
              "      <td>1997.0</td>\n",
              "      <td>378194.9</td>\n",
              "      <td>2000.0</td>\n",
              "      <td>1621</td>\n",
              "      <td>4</td>\n",
              "      <td>0</td>\n",
              "      <td>1</td>\n",
              "      <td>1</td>\n",
              "      <td>0</td>\n",
              "      <td>1</td>\n",
              "      <td>0</td>\n",
              "      <td>0</td>\n",
              "    </tr>\n",
              "    <tr>\n",
              "      <th>7</th>\n",
              "      <td>4413</td>\n",
              "      <td>777</td>\n",
              "      <td>5950.0</td>\n",
              "      <td>2002.0</td>\n",
              "      <td>245000.0</td>\n",
              "      <td>1900.0</td>\n",
              "      <td>1621</td>\n",
              "      <td>3</td>\n",
              "      <td>0</td>\n",
              "      <td>1</td>\n",
              "      <td>0</td>\n",
              "      <td>0</td>\n",
              "      <td>1</td>\n",
              "      <td>0</td>\n",
              "      <td>0</td>\n",
              "    </tr>\n",
              "    <tr>\n",
              "      <th>...</th>\n",
              "      <td>...</td>\n",
              "      <td>...</td>\n",
              "      <td>...</td>\n",
              "      <td>...</td>\n",
              "      <td>...</td>\n",
              "      <td>...</td>\n",
              "      <td>...</td>\n",
              "      <td>...</td>\n",
              "      <td>...</td>\n",
              "      <td>...</td>\n",
              "      <td>...</td>\n",
              "      <td>...</td>\n",
              "      <td>...</td>\n",
              "      <td>...</td>\n",
              "      <td>...</td>\n",
              "    </tr>\n",
              "    <tr>\n",
              "      <th>39990</th>\n",
              "      <td>415</td>\n",
              "      <td>126</td>\n",
              "      <td>14990.0</td>\n",
              "      <td>2014.0</td>\n",
              "      <td>134000.0</td>\n",
              "      <td>1600.0</td>\n",
              "      <td>2078</td>\n",
              "      <td>4</td>\n",
              "      <td>0</td>\n",
              "      <td>1</td>\n",
              "      <td>1</td>\n",
              "      <td>0</td>\n",
              "      <td>1</td>\n",
              "      <td>0</td>\n",
              "      <td>0</td>\n",
              "    </tr>\n",
              "    <tr>\n",
              "      <th>39991</th>\n",
              "      <td>786</td>\n",
              "      <td>175</td>\n",
              "      <td>2100.0</td>\n",
              "      <td>1999.0</td>\n",
              "      <td>235000.0</td>\n",
              "      <td>1400.0</td>\n",
              "      <td>869</td>\n",
              "      <td>3</td>\n",
              "      <td>0</td>\n",
              "      <td>1</td>\n",
              "      <td>1</td>\n",
              "      <td>1</td>\n",
              "      <td>1</td>\n",
              "      <td>0</td>\n",
              "      <td>0</td>\n",
              "    </tr>\n",
              "    <tr>\n",
              "      <th>39992</th>\n",
              "      <td>2368</td>\n",
              "      <td>182</td>\n",
              "      <td>15250.0</td>\n",
              "      <td>2009.0</td>\n",
              "      <td>270000.0</td>\n",
              "      <td>3000.0</td>\n",
              "      <td>5468</td>\n",
              "      <td>6</td>\n",
              "      <td>0</td>\n",
              "      <td>1</td>\n",
              "      <td>0</td>\n",
              "      <td>0</td>\n",
              "      <td>0</td>\n",
              "      <td>0</td>\n",
              "      <td>0</td>\n",
              "    </tr>\n",
              "    <tr>\n",
              "      <th>39994</th>\n",
              "      <td>2368</td>\n",
              "      <td>494</td>\n",
              "      <td>9700.0</td>\n",
              "      <td>2008.0</td>\n",
              "      <td>278000.0</td>\n",
              "      <td>2000.0</td>\n",
              "      <td>3809</td>\n",
              "      <td>4</td>\n",
              "      <td>0</td>\n",
              "      <td>1</td>\n",
              "      <td>0</td>\n",
              "      <td>1</td>\n",
              "      <td>1</td>\n",
              "      <td>0</td>\n",
              "      <td>0</td>\n",
              "    </tr>\n",
              "    <tr>\n",
              "      <th>39997</th>\n",
              "      <td>1701</td>\n",
              "      <td>353</td>\n",
              "      <td>4000.0</td>\n",
              "      <td>1999.0</td>\n",
              "      <td>0.0</td>\n",
              "      <td>2200.0</td>\n",
              "      <td>1410</td>\n",
              "      <td>4</td>\n",
              "      <td>0</td>\n",
              "      <td>1</td>\n",
              "      <td>0</td>\n",
              "      <td>1</td>\n",
              "      <td>0</td>\n",
              "      <td>0</td>\n",
              "      <td>1</td>\n",
              "    </tr>\n",
              "  </tbody>\n",
              "</table>\n",
              "<p>24596 rows × 15 columns</p>\n",
              "</div>"
            ],
            "text/plain": [
              "       make  ...  drive_unit_rear drive\n",
              "0       405  ...                      0\n",
              "4       888  ...                      0\n",
              "5       888  ...                      0\n",
              "6       495  ...                      0\n",
              "7      4413  ...                      0\n",
              "...     ...  ...                    ...\n",
              "39990   415  ...                      0\n",
              "39991   786  ...                      0\n",
              "39992  2368  ...                      0\n",
              "39994  2368  ...                      0\n",
              "39997  1701  ...                      1\n",
              "\n",
              "[24596 rows x 15 columns]"
            ]
          },
          "metadata": {
            "tags": []
          },
          "execution_count": 31
        }
      ]
    },
    {
      "cell_type": "code",
      "metadata": {
        "id": "sqvEBrTFqvIW",
        "colab": {
          "base_uri": "https://localhost:8080/"
        },
        "outputId": "70bacd49-106d-4a68-88ac-a05d01be4526"
      },
      "source": [
        "joblib.dump(new_data,'/content/drive/My Drive/cars_onehot_data1.pkl') # save the data"
      ],
      "execution_count": null,
      "outputs": [
        {
          "output_type": "execute_result",
          "data": {
            "text/plain": [
              "['/content/drive/My Drive/cars_onehot_data1.pkl']"
            ]
          },
          "metadata": {
            "tags": []
          },
          "execution_count": 32
        }
      ]
    },
    {
      "cell_type": "code",
      "metadata": {
        "id": "3H_D88Sk-5sp"
      },
      "source": [
        ""
      ],
      "execution_count": null,
      "outputs": []
    }
  ]
}