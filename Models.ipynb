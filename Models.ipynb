{
  "nbformat": 4,
  "nbformat_minor": 0,
  "metadata": {
    "colab": {
      "name": "Models.ipynb",
      "provenance": [],
      "mount_file_id": "1B6u7fKShHKSBrKxyjWmXtxSzJNpoeaNM",
      "authorship_tag": "ABX9TyPCO9IbdgxUtV1+oW5GIK7j",
      "include_colab_link": true
    },
    "kernelspec": {
      "name": "python3",
      "display_name": "Python 3"
    }
  },
  "cells": [
    {
      "cell_type": "markdown",
      "metadata": {
        "id": "view-in-github",
        "colab_type": "text"
      },
      "source": [
        "<a href=\"https://colab.research.google.com/github/TechRoC/Used_Car_Price_Prediction/blob/main/Models.ipynb\" target=\"_parent\"><img src=\"https://colab.research.google.com/assets/colab-badge.svg\" alt=\"Open In Colab\"/></a>"
      ]
    },
    {
      "cell_type": "code",
      "metadata": {
        "id": "HmMgHqLxsszL",
        "colab": {
          "base_uri": "https://localhost:8080/"
        },
        "outputId": "f4db43fb-1086-4351-89e2-3b5e7c822c08"
      },
      "source": [
        "import pandas as pd\n",
        "import numpy as np\n",
        "import seaborn as sns\n",
        "import os\n",
        "import matplotlib.pyplot as plt\n",
        "%matplotlib inline\n",
        " \n",
        " \n",
        "from sklearn.ensemble import ExtraTreesRegressor\n",
        "from sklearn.tree import DecisionTreeRegressor\n",
        "from sklearn.ensemble import RandomForestRegressor , AdaBoostRegressor , GradientBoostingRegressor\n",
        "from xgboost import XGBRegressor\n",
        "from sklearn.model_selection import cross_val_score , train_test_split\n",
        " \n",
        " \n",
        "from sklearn.externals import joblib\n",
        "import warnings\n",
        "warnings.filterwarnings('ignore')"
      ],
      "execution_count": null,
      "outputs": [
        {
          "output_type": "stream",
          "text": [
            "/usr/local/lib/python3.6/dist-packages/sklearn/externals/joblib/__init__.py:15: FutureWarning: sklearn.externals.joblib is deprecated in 0.21 and will be removed in 0.23. Please import this functionality directly from joblib, which can be installed with: pip install joblib. If this warning is raised when loading pickled models, you may need to re-serialize those models with scikit-learn 0.21+.\n",
            "  warnings.warn(msg, category=FutureWarning)\n"
          ],
          "name": "stderr"
        }
      ]
    },
    {
      "cell_type": "code",
      "metadata": {
        "id": "pBWQnIOR2eDY"
      },
      "source": [
        "data = joblib.load('/content/drive/My Drive/cars_onehot_data1.pkl')"
      ],
      "execution_count": null,
      "outputs": []
    },
    {
      "cell_type": "code",
      "metadata": {
        "id": "Px2HX1JY3E-O",
        "colab": {
          "base_uri": "https://localhost:8080/",
          "height": 473
        },
        "outputId": "57b1cbeb-86cb-4768-d62e-c327fa7669bf"
      },
      "source": [
        "data = data[[c for c in data if c not in ['priceUSD']] + ['priceUSD']]\n",
        "data"
      ],
      "execution_count": null,
      "outputs": [
        {
          "output_type": "execute_result",
          "data": {
            "text/html": [
              "<div>\n",
              "<style scoped>\n",
              "    .dataframe tbody tr th:only-of-type {\n",
              "        vertical-align: middle;\n",
              "    }\n",
              "\n",
              "    .dataframe tbody tr th {\n",
              "        vertical-align: top;\n",
              "    }\n",
              "\n",
              "    .dataframe thead th {\n",
              "        text-align: right;\n",
              "    }\n",
              "</style>\n",
              "<table border=\"1\" class=\"dataframe\">\n",
              "  <thead>\n",
              "    <tr style=\"text-align: right;\">\n",
              "      <th></th>\n",
              "      <th>make</th>\n",
              "      <th>model</th>\n",
              "      <th>year</th>\n",
              "      <th>mileage(kilometers)</th>\n",
              "      <th>volume(cm3)</th>\n",
              "      <th>color</th>\n",
              "      <th>segment</th>\n",
              "      <th>condition_with damage</th>\n",
              "      <th>condition_with mileage</th>\n",
              "      <th>fuel_type_petrol</th>\n",
              "      <th>transmission_mechanics</th>\n",
              "      <th>drive_unit_front-wheel drive</th>\n",
              "      <th>drive_unit_part-time four-wheel drive</th>\n",
              "      <th>drive_unit_rear drive</th>\n",
              "      <th>priceUSD</th>\n",
              "    </tr>\n",
              "  </thead>\n",
              "  <tbody>\n",
              "    <tr>\n",
              "      <th>0</th>\n",
              "      <td>405</td>\n",
              "      <td>196</td>\n",
              "      <td>1993.0</td>\n",
              "      <td>960015.0</td>\n",
              "      <td>2000.0</td>\n",
              "      <td>5468</td>\n",
              "      <td>4</td>\n",
              "      <td>0</td>\n",
              "      <td>1</td>\n",
              "      <td>1</td>\n",
              "      <td>1</td>\n",
              "      <td>1</td>\n",
              "      <td>0</td>\n",
              "      <td>0</td>\n",
              "      <td>565.0</td>\n",
              "    </tr>\n",
              "    <tr>\n",
              "      <th>4</th>\n",
              "      <td>888</td>\n",
              "      <td>323</td>\n",
              "      <td>2002.0</td>\n",
              "      <td>413000.0</td>\n",
              "      <td>2200.0</td>\n",
              "      <td>869</td>\n",
              "      <td>4</td>\n",
              "      <td>1</td>\n",
              "      <td>0</td>\n",
              "      <td>0</td>\n",
              "      <td>1</td>\n",
              "      <td>1</td>\n",
              "      <td>0</td>\n",
              "      <td>0</td>\n",
              "      <td>2450.0</td>\n",
              "    </tr>\n",
              "    <tr>\n",
              "      <th>5</th>\n",
              "      <td>888</td>\n",
              "      <td>163</td>\n",
              "      <td>2016.0</td>\n",
              "      <td>148000.0</td>\n",
              "      <td>1600.0</td>\n",
              "      <td>5468</td>\n",
              "      <td>7</td>\n",
              "      <td>0</td>\n",
              "      <td>1</td>\n",
              "      <td>0</td>\n",
              "      <td>1</td>\n",
              "      <td>1</td>\n",
              "      <td>0</td>\n",
              "      <td>0</td>\n",
              "      <td>18900.0</td>\n",
              "    </tr>\n",
              "    <tr>\n",
              "      <th>6</th>\n",
              "      <td>495</td>\n",
              "      <td>137</td>\n",
              "      <td>1997.0</td>\n",
              "      <td>378194.9</td>\n",
              "      <td>2000.0</td>\n",
              "      <td>1621</td>\n",
              "      <td>4</td>\n",
              "      <td>0</td>\n",
              "      <td>1</td>\n",
              "      <td>1</td>\n",
              "      <td>0</td>\n",
              "      <td>1</td>\n",
              "      <td>0</td>\n",
              "      <td>0</td>\n",
              "      <td>2000.0</td>\n",
              "    </tr>\n",
              "    <tr>\n",
              "      <th>7</th>\n",
              "      <td>4413</td>\n",
              "      <td>777</td>\n",
              "      <td>2002.0</td>\n",
              "      <td>245000.0</td>\n",
              "      <td>1900.0</td>\n",
              "      <td>1621</td>\n",
              "      <td>3</td>\n",
              "      <td>0</td>\n",
              "      <td>1</td>\n",
              "      <td>0</td>\n",
              "      <td>0</td>\n",
              "      <td>1</td>\n",
              "      <td>0</td>\n",
              "      <td>0</td>\n",
              "      <td>5950.0</td>\n",
              "    </tr>\n",
              "    <tr>\n",
              "      <th>...</th>\n",
              "      <td>...</td>\n",
              "      <td>...</td>\n",
              "      <td>...</td>\n",
              "      <td>...</td>\n",
              "      <td>...</td>\n",
              "      <td>...</td>\n",
              "      <td>...</td>\n",
              "      <td>...</td>\n",
              "      <td>...</td>\n",
              "      <td>...</td>\n",
              "      <td>...</td>\n",
              "      <td>...</td>\n",
              "      <td>...</td>\n",
              "      <td>...</td>\n",
              "      <td>...</td>\n",
              "    </tr>\n",
              "    <tr>\n",
              "      <th>39990</th>\n",
              "      <td>415</td>\n",
              "      <td>126</td>\n",
              "      <td>2014.0</td>\n",
              "      <td>134000.0</td>\n",
              "      <td>1600.0</td>\n",
              "      <td>2078</td>\n",
              "      <td>4</td>\n",
              "      <td>0</td>\n",
              "      <td>1</td>\n",
              "      <td>1</td>\n",
              "      <td>0</td>\n",
              "      <td>1</td>\n",
              "      <td>0</td>\n",
              "      <td>0</td>\n",
              "      <td>14990.0</td>\n",
              "    </tr>\n",
              "    <tr>\n",
              "      <th>39991</th>\n",
              "      <td>786</td>\n",
              "      <td>175</td>\n",
              "      <td>1999.0</td>\n",
              "      <td>235000.0</td>\n",
              "      <td>1400.0</td>\n",
              "      <td>869</td>\n",
              "      <td>3</td>\n",
              "      <td>0</td>\n",
              "      <td>1</td>\n",
              "      <td>1</td>\n",
              "      <td>1</td>\n",
              "      <td>1</td>\n",
              "      <td>0</td>\n",
              "      <td>0</td>\n",
              "      <td>2100.0</td>\n",
              "    </tr>\n",
              "    <tr>\n",
              "      <th>39992</th>\n",
              "      <td>2368</td>\n",
              "      <td>182</td>\n",
              "      <td>2009.0</td>\n",
              "      <td>270000.0</td>\n",
              "      <td>3000.0</td>\n",
              "      <td>5468</td>\n",
              "      <td>6</td>\n",
              "      <td>0</td>\n",
              "      <td>1</td>\n",
              "      <td>0</td>\n",
              "      <td>0</td>\n",
              "      <td>0</td>\n",
              "      <td>0</td>\n",
              "      <td>0</td>\n",
              "      <td>15250.0</td>\n",
              "    </tr>\n",
              "    <tr>\n",
              "      <th>39994</th>\n",
              "      <td>2368</td>\n",
              "      <td>494</td>\n",
              "      <td>2008.0</td>\n",
              "      <td>278000.0</td>\n",
              "      <td>2000.0</td>\n",
              "      <td>3809</td>\n",
              "      <td>4</td>\n",
              "      <td>0</td>\n",
              "      <td>1</td>\n",
              "      <td>0</td>\n",
              "      <td>1</td>\n",
              "      <td>1</td>\n",
              "      <td>0</td>\n",
              "      <td>0</td>\n",
              "      <td>9700.0</td>\n",
              "    </tr>\n",
              "    <tr>\n",
              "      <th>39997</th>\n",
              "      <td>1701</td>\n",
              "      <td>353</td>\n",
              "      <td>1999.0</td>\n",
              "      <td>0.0</td>\n",
              "      <td>2200.0</td>\n",
              "      <td>1410</td>\n",
              "      <td>4</td>\n",
              "      <td>0</td>\n",
              "      <td>1</td>\n",
              "      <td>0</td>\n",
              "      <td>1</td>\n",
              "      <td>0</td>\n",
              "      <td>0</td>\n",
              "      <td>1</td>\n",
              "      <td>4000.0</td>\n",
              "    </tr>\n",
              "  </tbody>\n",
              "</table>\n",
              "<p>24596 rows × 15 columns</p>\n",
              "</div>"
            ],
            "text/plain": [
              "       make  model  ...  drive_unit_rear drive  priceUSD\n",
              "0       405    196  ...                      0     565.0\n",
              "4       888    323  ...                      0    2450.0\n",
              "5       888    163  ...                      0   18900.0\n",
              "6       495    137  ...                      0    2000.0\n",
              "7      4413    777  ...                      0    5950.0\n",
              "...     ...    ...  ...                    ...       ...\n",
              "39990   415    126  ...                      0   14990.0\n",
              "39991   786    175  ...                      0    2100.0\n",
              "39992  2368    182  ...                      0   15250.0\n",
              "39994  2368    494  ...                      0    9700.0\n",
              "39997  1701    353  ...                      1    4000.0\n",
              "\n",
              "[24596 rows x 15 columns]"
            ]
          },
          "metadata": {
            "tags": []
          },
          "execution_count": 3
        }
      ]
    },
    {
      "cell_type": "code",
      "metadata": {
        "id": "ZrGiYn945cbV"
      },
      "source": [
        "y = data['priceUSD']\n",
        "X = data.drop(['priceUSD'], axis=1)"
      ],
      "execution_count": null,
      "outputs": []
    },
    {
      "cell_type": "code",
      "metadata": {
        "id": "K6UJJyYn1rAa"
      },
      "source": [
        "X_train,X_test,y_train,y_test = train_test_split(X,y,test_size=0.2)"
      ],
      "execution_count": null,
      "outputs": []
    },
    {
      "cell_type": "code",
      "metadata": {
        "id": "0xo-EOna5acV",
        "colab": {
          "base_uri": "https://localhost:8080/"
        },
        "outputId": "d6e79e39-31a2-4756-e67f-ad4206712042"
      },
      "source": [
        "model_decision_tree = DecisionTreeRegressor(random_state=32)\n",
        "model_decision_tree.fit(X_train,y_train)"
      ],
      "execution_count": null,
      "outputs": [
        {
          "output_type": "execute_result",
          "data": {
            "text/plain": [
              "DecisionTreeRegressor(ccp_alpha=0.0, criterion='mse', max_depth=None,\n",
              "                      max_features=None, max_leaf_nodes=None,\n",
              "                      min_impurity_decrease=0.0, min_impurity_split=None,\n",
              "                      min_samples_leaf=1, min_samples_split=2,\n",
              "                      min_weight_fraction_leaf=0.0, presort='deprecated',\n",
              "                      random_state=32, splitter='best')"
            ]
          },
          "metadata": {
            "tags": []
          },
          "execution_count": 6
        }
      ]
    },
    {
      "cell_type": "code",
      "metadata": {
        "id": "EB5N67SF3ECS"
      },
      "source": [
        "y_pred = model_decision_tree.predict(X_test)"
      ],
      "execution_count": null,
      "outputs": []
    },
    {
      "cell_type": "code",
      "metadata": {
        "id": "gyhhorTo9Ntk"
      },
      "source": [
        "from sklearn.metrics import mean_squared_error,r2_score\n",
        "rmse  = np.sqrt(mean_squared_error(y_pred,y_test))\n",
        "r2score = r2_score(y_pred,y_test)"
      ],
      "execution_count": null,
      "outputs": []
    },
    {
      "cell_type": "code",
      "metadata": {
        "id": "LZ_LhNz09qhM",
        "colab": {
          "base_uri": "https://localhost:8080/"
        },
        "outputId": "8ab739d7-f171-4b38-ca1e-5ec32b57a9ef"
      },
      "source": [
        "print(rmse,r2score)"
      ],
      "execution_count": null,
      "outputs": [
        {
          "output_type": "stream",
          "text": [
            "1672.5945988413243 0.9020426845044616\n"
          ],
          "name": "stdout"
        }
      ]
    },
    {
      "cell_type": "code",
      "metadata": {
        "id": "snezMiGxWaEb"
      },
      "source": [
        ""
      ],
      "execution_count": null,
      "outputs": []
    },
    {
      "cell_type": "code",
      "metadata": {
        "id": "6Ornbl8w9wnd"
      },
      "source": [
        "listy = []\n",
        "listy.append({'DecisionTreeRegressor':{\"RMSE\":rmse,\"r2score\":r2score}})"
      ],
      "execution_count": null,
      "outputs": []
    },
    {
      "cell_type": "code",
      "metadata": {
        "id": "7OQziyG4_TAL",
        "colab": {
          "base_uri": "https://localhost:8080/"
        },
        "outputId": "a9c2401b-1f1e-4c24-ddf0-58bc95e30fd6"
      },
      "source": [
        "model1 = ExtraTreesRegressor(random_state=32)\n",
        "model1.fit(X_train,y_train)\n",
        "y_pred = model1.predict(X_test)\n",
        "rmse  = np.sqrt(mean_squared_error(y_pred,y_test))\n",
        "r2score = r2_score(y_pred,y_test)\n",
        "print(rmse,r2score)\n",
        "listy.append({'ExtraTreesRegressor':{\"RMSE\":rmse,\"r2score\":r2score}})"
      ],
      "execution_count": null,
      "outputs": [
        {
          "output_type": "stream",
          "text": [
            "1349.7784671108977 0.9329119484418653\n"
          ],
          "name": "stdout"
        }
      ]
    },
    {
      "cell_type": "code",
      "metadata": {
        "id": "ZkJggFKjYP1v",
        "colab": {
          "base_uri": "https://localhost:8080/",
          "height": 446
        },
        "outputId": "96da8422-f47f-452d-bf44-b6a944cd1a92"
      },
      "source": [
        "d = list(model1.feature_importances_)\n",
        "new = []\n",
        "val=val1 = 0\n",
        "for i in range(len(d)):\n",
        "  if i == 7 or i == 8:\n",
        "    val += d[i]\n",
        "  elif i >= 11:\n",
        "    val1 += d[i]\n",
        "  else:\n",
        "    new.append(d[i])\n",
        "new.insert(7,val)\n",
        "new.append(val1)\n",
        "col = ['make',\t'model',\t'year',\t'mileage'\t,'volume',\t'color',\t'segment','condition','fuel_type','transmission','drive_unit']\n",
        "b = list(data.columns)\n",
        "#cs = cm.Set1(np.arange(len(col)))\n",
        "print(d)\n",
        "print(new)\n",
        "\n",
        "from matplotlib import  cm\n",
        "plt.figure(figsize=(15,5))\n",
        "plt.style.use('seaborn')\n",
        "plt.bar(col,new )\n",
        "plt.xticks(rotation=(30))\n",
        "plt.xlabel('columns')\n",
        "plt.ylabel('Features')\n",
        "plt.title('ExtraTreesRegressor Feature importance')\n",
        "plt.show()\n",
        "plt.savefig('best_model2.png')\n"
      ],
      "execution_count": null,
      "outputs": [
        {
          "output_type": "stream",
          "text": [
            "[0.022904766435177804, 0.02354969852970858, 0.5727756010981939, 0.03241173013073465, 0.04432708397380493, 0.009629747168834224, 0.06887647279590899, 0.0012473739740988775, 0.0018402765308165423, 0.022454496907676365, 0.13938322397692268, 0.054595360848268396, 0.0017773257836260228, 0.004226841846228169]\n",
            "[0.022904766435177804, 0.02354969852970858, 0.5727756010981939, 0.03241173013073465, 0.04432708397380493, 0.009629747168834224, 0.06887647279590899, 0.0030876505049154197, 0.022454496907676365, 0.13938322397692268, 0.06059952847812258]\n"
          ],
          "name": "stdout"
        },
        {
          "output_type": "display_data",
          "data": {
            "image/png": "[encoded data removed]",
            "text/plain": [
              "<Figure size 1080x360 with 1 Axes>"
            ]
          },
          "metadata": {
            "tags": [],
            "needs_background": "light"
          }
        },
        {
          "output_type": "display_data",
          "data": {
            "text/plain": [
              "<Figure size 576x396 with 0 Axes>"
            ]
          },
          "metadata": {
            "tags": []
          }
        }
      ]
    },
    {
      "cell_type": "code",
      "metadata": {
        "id": "DTh24fA8_vhM",
        "colab": {
          "base_uri": "https://localhost:8080/"
        },
        "outputId": "3d9dc6fe-84f8-41e1-bc94-c3fd53d3c6e6"
      },
      "source": [
        "model2 = RandomForestRegressor(random_state=32)\n",
        "model2.fit(X_train,y_train)\n",
        "y_pred = model2.predict(X_test)\n",
        "rmse  = np.sqrt(mean_squared_error(y_pred,y_test))\n",
        "r2score = r2_score(y_pred,y_test)\n",
        "print(rmse,r2score)\n",
        "listy.append({'RandomForestRegressor':{\"RMSE\":rmse,\"r2score\":r2score}})"
      ],
      "execution_count": null,
      "outputs": [
        {
          "output_type": "stream",
          "text": [
            "1272.320067541076 0.9397507368272361\n"
          ],
          "name": "stdout"
        }
      ]
    },
    {
      "cell_type": "code",
      "metadata": {
        "id": "Gnw_pCz_Xq61",
        "colab": {
          "base_uri": "https://localhost:8080/",
          "height": 396
        },
        "outputId": "f693a42d-6fb7-4c45-f745-c42384326f38"
      },
      "source": [
        "d = list(model2.feature_importances_)\n",
        "new = []\n",
        "val=val1 = 0\n",
        "for i in range(len(d)):\n",
        "  if i == 7 or i == 8:\n",
        "    val += d[i]\n",
        "  elif i >= 11:\n",
        "    val1 += d[i]\n",
        "  else:\n",
        "    new.append(d[i])\n",
        "new.insert(7,val)\n",
        "new.append(val1)\n",
        "col = ['make',\t'model',\t'year',\t'mileage'\t,'volume',\t'color',\t'segment','condition','fuel_type','transmission','drive_unit']\n",
        "b = list(data.columns)\n",
        "#cs = cm.Set1(np.arange(len(col)))\n",
        "\n",
        "\n",
        "from matplotlib import  cm\n",
        "plt.figure(figsize=(15,5))\n",
        "plt.style.use('ggplot')\n",
        "plt.bar(col,new )\n",
        "plt.xticks(rotation=(30))\n",
        "plt.xlabel('columns')\n",
        "plt.ylabel('Features')\n",
        "plt.title('RandomForesTRegressor Feature importance')\n",
        "plt.show()\n",
        "plt.savefig('best_model2.png')"
      ],
      "execution_count": null,
      "outputs": [
        {
          "output_type": "display_data",
          "data": {
            "image/png": "[encoded data removed]",
            "text/plain": [
              "<Figure size 1080x360 with 1 Axes>"
            ]
          },
          "metadata": {
            "tags": []
          }
        },
        {
          "output_type": "display_data",
          "data": {
            "text/plain": [
              "<Figure size 576x396 with 0 Axes>"
            ]
          },
          "metadata": {
            "tags": []
          }
        }
      ]
    },
    {
      "cell_type": "code",
      "metadata": {
        "id": "dD3gNEa3ADbe",
        "colab": {
          "base_uri": "https://localhost:8080/"
        },
        "outputId": "16494956-07c7-4317-fbc5-dd9dfbca533d"
      },
      "source": [
        "model3 = AdaBoostRegressor(random_state=32)\n",
        "model3.fit(X_train,y_train)\n",
        "y_pred = model3.predict(X_test)\n",
        "rmse  = np.sqrt(mean_squared_error(y_pred,y_test))\n",
        "r2score = r2_score(y_pred,y_test)\n",
        "print(rmse,r2score)\n",
        "listy.append({'AdaBoostRegressor':{\"RMSE\":rmse,\"r2score\":r2score}})"
      ],
      "execution_count": null,
      "outputs": [
        {
          "output_type": "stream",
          "text": [
            "2788.364628053206 0.6872537639746863\n"
          ],
          "name": "stdout"
        }
      ]
    },
    {
      "cell_type": "code",
      "metadata": {
        "id": "qosmgPXsAO8-",
        "colab": {
          "base_uri": "https://localhost:8080/"
        },
        "outputId": "e25e65d2-ff6b-452e-ebcd-f1aa7d9e5e63"
      },
      "source": [
        "model4 = GradientBoostingRegressor(random_state=32)\n",
        "model4.fit(X_train,y_train)\n",
        "y_pred = model4.predict(X_test)\n",
        "rmse  = np.sqrt(mean_squared_error(y_pred,y_test))\n",
        "r2score = r2_score(y_pred,y_test)\n",
        "print(rmse,r2score)\n",
        "listy.append({'GradientBoostingRegressor':{\"RMSE\":rmse,\"r2score\":r2score}})"
      ],
      "execution_count": null,
      "outputs": [
        {
          "output_type": "stream",
          "text": [
            "1483.5286613140586 0.9124441280861042\n"
          ],
          "name": "stdout"
        }
      ]
    },
    {
      "cell_type": "code",
      "metadata": {
        "id": "bA0U-gTnAVku",
        "colab": {
          "base_uri": "https://localhost:8080/"
        },
        "outputId": "52934cda-554f-47bd-bb68-6827ca284b51"
      },
      "source": [
        "\n",
        "\n",
        "model5 = XGBRegressor(random_state=32)\n",
        "model5.fit(X_train,y_train)\n",
        "y_pred = model5.predict(X_test)\n",
        "rmse  = np.sqrt(mean_squared_error(y_pred,y_test))\n",
        "r2score = r2_score(y_pred,y_test)\n",
        "print(rmse,r2score)\n",
        "listy.append({'XGBRegressor':{\"RMSE\":rmse,\"r2score\":r2score}})"
      ],
      "execution_count": null,
      "outputs": [
        {
          "output_type": "stream",
          "text": [
            "[08:14:35] WARNING: /workspace/src/objective/regression_obj.cu:152: reg:linear is now deprecated in favor of reg:squarederror.\n",
            "1488.0460776054783 0.9122010066521857\n"
          ],
          "name": "stdout"
        }
      ]
    },
    {
      "cell_type": "code",
      "metadata": {
        "id": "j2GI_yllAi9f",
        "colab": {
          "base_uri": "https://localhost:8080/"
        },
        "outputId": "fdaa0cbc-dbc7-47f4-b7a0-0dad2089b73b"
      },
      "source": [
        "listy"
      ],
      "execution_count": null,
      "outputs": [
        {
          "output_type": "execute_result",
          "data": {
            "text/plain": [
              "[{'DecisionTreeRegressor': {'RMSE': 1672.5945988413243,\n",
              "   'r2score': 0.9020426845044616}},\n",
              " {'ExtraTreesRegressor': {'RMSE': 1349.7784671108977,\n",
              "   'r2score': 0.9329119484418653}},\n",
              " {'RandomForestRegressor': {'RMSE': 1272.320067541076,\n",
              "   'r2score': 0.9397507368272361}},\n",
              " {'AdaBoostRegressor': {'RMSE': 2788.364628053206,\n",
              "   'r2score': 0.6872537639746863}},\n",
              " {'GradientBoostingRegressor': {'RMSE': 1483.5286613140586,\n",
              "   'r2score': 0.9124441280861042}},\n",
              " {'XGBRegressor': {'RMSE': 1488.0460776054783, 'r2score': 0.9122010066521857}}]"
            ]
          },
          "metadata": {
            "tags": []
          },
          "execution_count": 20
        }
      ]
    },
    {
      "cell_type": "code",
      "metadata": {
        "id": "s-fUjIH5BnF0",
        "colab": {
          "base_uri": "https://localhost:8080/",
          "height": 235
        },
        "outputId": "1c521877-892b-4eab-c40c-779129d373a0"
      },
      "source": [
        "def change(val):\n",
        "  val = val * 100\n",
        "  val = round(val,2)\n",
        "  return val\n",
        "d = []\n",
        "m = []\n",
        "for i in listy:\n",
        "  for j in i.keys():\n",
        "    m.append(j)\n",
        "    d.append(i[j])\n",
        "model_check = pd.DataFrame(d)\n",
        "model = pd.DataFrame(m,columns=['Models'])\n",
        "DataFrame = pd.merge(model,model_check, on=model.index, how = 'outer')\n",
        "DataFrame = DataFrame.drop('key_0',axis=1)\n",
        "DataFrame['Accuracy'] = DataFrame['r2score'].apply(change)\n",
        "DataFrame"
      ],
      "execution_count": null,
      "outputs": [
        {
          "output_type": "execute_result",
          "data": {
            "text/html": [
              "<div>\n",
              "<style scoped>\n",
              "    .dataframe tbody tr th:only-of-type {\n",
              "        vertical-align: middle;\n",
              "    }\n",
              "\n",
              "    .dataframe tbody tr th {\n",
              "        vertical-align: top;\n",
              "    }\n",
              "\n",
              "    .dataframe thead th {\n",
              "        text-align: right;\n",
              "    }\n",
              "</style>\n",
              "<table border=\"1\" class=\"dataframe\">\n",
              "  <thead>\n",
              "    <tr style=\"text-align: right;\">\n",
              "      <th></th>\n",
              "      <th>Models</th>\n",
              "      <th>RMSE</th>\n",
              "      <th>r2score</th>\n",
              "      <th>Accuracy</th>\n",
              "    </tr>\n",
              "  </thead>\n",
              "  <tbody>\n",
              "    <tr>\n",
              "      <th>0</th>\n",
              "      <td>DecisionTreeRegressor</td>\n",
              "      <td>1672.594599</td>\n",
              "      <td>0.902043</td>\n",
              "      <td>90.20</td>\n",
              "    </tr>\n",
              "    <tr>\n",
              "      <th>1</th>\n",
              "      <td>ExtraTreesRegressor</td>\n",
              "      <td>1349.778467</td>\n",
              "      <td>0.932912</td>\n",
              "      <td>93.29</td>\n",
              "    </tr>\n",
              "    <tr>\n",
              "      <th>2</th>\n",
              "      <td>RandomForestRegressor</td>\n",
              "      <td>1272.320068</td>\n",
              "      <td>0.939751</td>\n",
              "      <td>93.98</td>\n",
              "    </tr>\n",
              "    <tr>\n",
              "      <th>3</th>\n",
              "      <td>AdaBoostRegressor</td>\n",
              "      <td>2788.364628</td>\n",
              "      <td>0.687254</td>\n",
              "      <td>68.73</td>\n",
              "    </tr>\n",
              "    <tr>\n",
              "      <th>4</th>\n",
              "      <td>GradientBoostingRegressor</td>\n",
              "      <td>1483.528661</td>\n",
              "      <td>0.912444</td>\n",
              "      <td>91.24</td>\n",
              "    </tr>\n",
              "    <tr>\n",
              "      <th>5</th>\n",
              "      <td>XGBRegressor</td>\n",
              "      <td>1488.046078</td>\n",
              "      <td>0.912201</td>\n",
              "      <td>91.22</td>\n",
              "    </tr>\n",
              "  </tbody>\n",
              "</table>\n",
              "</div>"
            ],
            "text/plain": [
              "                      Models         RMSE   r2score  Accuracy\n",
              "0      DecisionTreeRegressor  1672.594599  0.902043     90.20\n",
              "1        ExtraTreesRegressor  1349.778467  0.932912     93.29\n",
              "2      RandomForestRegressor  1272.320068  0.939751     93.98\n",
              "3          AdaBoostRegressor  2788.364628  0.687254     68.73\n",
              "4  GradientBoostingRegressor  1483.528661  0.912444     91.24\n",
              "5               XGBRegressor  1488.046078  0.912201     91.22"
            ]
          },
          "metadata": {
            "tags": []
          },
          "execution_count": 21
        }
      ]
    },
    {
      "cell_type": "code",
      "metadata": {
        "id": "hjBo6w0nCSUr",
        "colab": {
          "base_uri": "https://localhost:8080/"
        },
        "outputId": "0942e0c0-e4f8-4dbc-e604-6867681abad0"
      },
      "source": [
        "joblib.dump(model_decision_tree,'/content/DecisionTreeRegressor.pkl')\n",
        "joblib.dump(model1,'/content/ExtraTreesRegressor.pkl')\n",
        "joblib.dump(model2,'/content/RandomForestRegressor.pkl')\n",
        "joblib.dump(model3,'/content/AdaBoostRegressor.pkl')\n",
        "joblib.dump(model4,'/content/GradientBoostingRegressor.pkl')\n",
        "joblib.dump(model5,'/content/XGBRegressor.pkl')"
      ],
      "execution_count": null,
      "outputs": [
        {
          "output_type": "execute_result",
          "data": {
            "text/plain": [
              "['/content/XGBRegressor.pkl']"
            ]
          },
          "metadata": {
            "tags": []
          },
          "execution_count": 22
        }
      ]
    },
    {
      "cell_type": "code",
      "metadata": {
        "id": "IUauZFuGL13j",
        "colab": {
          "base_uri": "https://localhost:8080/",
          "height": 287
        },
        "outputId": "475e07ca-6a81-4766-9ebd-70a12cd564dd"
      },
      "source": [
        "plt.figure(figsize=(15,5))\n",
        "plt.style.use('ggplot')\n",
        "plt.plot(DataFrame['Models'],DataFrame['Accuracy'], marker='o', markerfacecolor='blue')\n",
        "plt.xticks(rotation=(10))\n",
        "plt.xlabel('Models')\n",
        "plt.ylabel('Accuracy (%)')\n",
        "plt.title('Model Performance')\n",
        "plt.show()\n",
        "plt.savefig('model_performance.png')"
      ],
      "execution_count": null,
      "outputs": [
        {
          "output_type": "display_data",
          "data": {
            "image/png": "[encoded data removed]",
            "text/plain": [
              "<Figure size 1080x360 with 1 Axes>"
            ]
          },
          "metadata": {
            "tags": []
          }
        },
        {
          "output_type": "display_data",
          "data": {
            "text/plain": [
              "<Figure size 576x396 with 0 Axes>"
            ]
          },
          "metadata": {
            "tags": []
          }
        }
      ]
    },
    {
      "cell_type": "code",
      "metadata": {
        "id": "4CNUFL8JMJhh"
      },
      "source": [
        ""
      ],
      "execution_count": null,
      "outputs": []
    }
  ]
}